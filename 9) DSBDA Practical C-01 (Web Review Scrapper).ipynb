{
 "cells": [
  {
   "cell_type": "code",
   "execution_count": 2,
   "id": "cd6b1c59",
   "metadata": {},
   "outputs": [
    {
     "data": {
      "text/html": [
       "<div>\n",
       "<style scoped>\n",
       "    .dataframe tbody tr th:only-of-type {\n",
       "        vertical-align: middle;\n",
       "    }\n",
       "\n",
       "    .dataframe tbody tr th {\n",
       "        vertical-align: top;\n",
       "    }\n",
       "\n",
       "    .dataframe thead th {\n",
       "        text-align: right;\n",
       "    }\n",
       "</style>\n",
       "<table border=\"1\" class=\"dataframe\">\n",
       "  <thead>\n",
       "    <tr style=\"text-align: right;\">\n",
       "      <th></th>\n",
       "    </tr>\n",
       "  </thead>\n",
       "  <tbody>\n",
       "  </tbody>\n",
       "</table>\n",
       "</div>"
      ],
      "text/plain": [
       "Empty DataFrame\n",
       "Columns: []\n",
       "Index: []"
      ]
     },
     "execution_count": 2,
     "metadata": {},
     "output_type": "execute_result"
    }
   ],
   "source": [
    "import requests\n",
    "from bs4 import BeautifulSoup\n",
    "import pandas as pd\n",
    "\n",
    "custom_headers = {\n",
    "    \"Accept-language\": \"en-GB,en;q=0.9\",\n",
    "    \"Accept-Encoding\": \"gzip, deflate, br\",\n",
    "    \"Cache-Control\": \"max-age=0\",\n",
    "    \"Connection\": \"keep-alive\",\n",
    "    \"User-agent\": \"HEADERS = ({'Mozilla/5.0 (Windows NT 10.0; Win64; x64) AppleWebKit/537.36 (KHTML, like Gecko) Chrome/124.0.0.0 Safari/537.36'}) \",\n",
    "}\n",
    "\n",
    "def get_soup(url):\n",
    "    response = requests.get(url, headers=custom_headers)\n",
    "\n",
    "    if response.status_code != 200:\n",
    "        print(\"Error in getting webpage\")\n",
    "        exit(-1)\n",
    "\n",
    "    soup = BeautifulSoup(response.text, \"lxml\")\n",
    "    return soup\n",
    "\n",
    "def get_reviews(soup):\n",
    "    review_elements = soup.select(\"div.review\")\n",
    "\n",
    "    scraped_reviews = []\n",
    "\n",
    "    for review in review_elements:\n",
    "        r_author_element = review.select_one(\"span.a-profile-name\")\n",
    "        r_author = r_author_element.text if r_author_element else None\n",
    "\n",
    "        r_rating_element = review.select_one(\"i.review-rating\")\n",
    "        r_rating = r_rating_element.text.replace(\"out of 5 stars\", \"\") if r_rating_element else None\n",
    "\n",
    "        r_title_element = review.select_one(\"a.review-title\")\n",
    "        r_title_span_element = r_title_element.select_one(\"span:not([class])\") if r_title_element else None\n",
    "        r_title = r_title_span_element.text if r_title_span_element else None\n",
    "\n",
    "        r_content_element = review.select_one(\"span.review-text\")\n",
    "        r_content = r_content_element.text if r_content_element else None\n",
    "\n",
    "        r_date_element = review.select_one(\"span.review-date\")\n",
    "        r_date = r_date_element.text if r_date_element else None\n",
    "\n",
    "        r_verified_element = review.select_one(\"span.a-size-mini\")\n",
    "        r_verified = r_verified_element.text if r_verified_element else None\n",
    "\n",
    "        r_image_element = review.select_one(\"img.review-image-tile\")\n",
    "        r_image = r_image_element.attrs[\"src\"] if r_image_element else None\n",
    "\n",
    "        r = {\n",
    "            \"author\": r_author,\n",
    "            \"rating\": r_rating,\n",
    "            \"title\": r_title,\n",
    "            \"content\": r_content,\n",
    "            \"date\": r_date,\n",
    "            \"verified\": r_verified,\n",
    "            \"image_url\": r_image\n",
    "        }\n",
    "\n",
    "        scraped_reviews.append(r)\n",
    "\n",
    "    return scraped_reviews\n",
    "\n",
    "\n",
    "search_url = \"https://www.amazon.com/BERIBES-Cancelling-Transparent-Soft-Earpads-Charging-Black/product-reviews/B0CDC4X65Q/ref=cm_cr_dp_d_show_all_btm?ie=UTF8&reviewerType=all_reviews\"\n",
    "soup = get_soup(search_url)\n",
    "data = get_reviews(soup)\n",
    "df = pd.DataFrame(data=data)\n",
    "df\n",
    "\n"
   ]
  },
  {
   "cell_type": "code",
   "execution_count": 3,
   "id": "30623456",
   "metadata": {},
   "outputs": [
    {
     "ename": "SyntaxError",
     "evalue": "invalid decimal literal (163633199.py, line 1)",
     "output_type": "error",
     "traceback": [
      "\u001b[1;36m  Cell \u001b[1;32mIn[3], line 1\u001b[1;36m\u001b[0m\n\u001b[1;33m    https://www.flipkart.com/realme-p1-pro-5g-parrot-blue-128-gb/product-reviews/itmc859edf8053dc?pid=MOBGZ8R6ZNVGYU3W&lid=LSTMOBGZ8R6ZNVGYU3W00IT8I&aid=3ac62744-ab96-4f53-82f7-02eb72b6a662&mid=FLIPKART&fid=34ee4bea-e210-48c8-bca6-7e241c26a13f.MOBGZ8R6ZNVGYU3W&an=Battery&cat=Mobile&vert=Handset\u001b[0m\n\u001b[1;37m                                           ^\u001b[0m\n\u001b[1;31mSyntaxError\u001b[0m\u001b[1;31m:\u001b[0m invalid decimal literal\n"
     ]
    }
   ],
   "source": [
    "https://www.flipkart.com/realme-p1-pro-5g-parrot-blue-128-gb/product-reviews/itmc859edf8053dc?pid=MOBGZ8R6ZNVGYU3W&lid=LSTMOBGZ8R6ZNVGYU3W00IT8I&aid=3ac62744-ab96-4f53-82f7-02eb72b6a662&mid=FLIPKART&fid=34ee4bea-e210-48c8-bca6-7e241c26a13f.MOBGZ8R6ZNVGYU3W&an=Battery&cat=Mobile&vert=Handset"
   ]
  },
  {
   "cell_type": "code",
   "execution_count": null,
   "id": "7e825914",
   "metadata": {},
   "outputs": [],
   "source": []
  },
  {
   "cell_type": "code",
   "execution_count": null,
   "id": "f2ec5d1a",
   "metadata": {},
   "outputs": [],
   "source": []
  }
 ],
 "metadata": {
  "kernelspec": {
   "display_name": "Python 3 (ipykernel)",
   "language": "python",
   "name": "python3"
  },
  "language_info": {
   "codemirror_mode": {
    "name": "ipython",
    "version": 3
   },
   "file_extension": ".py",
   "mimetype": "text/x-python",
   "name": "python",
   "nbconvert_exporter": "python",
   "pygments_lexer": "ipython3",
   "version": "3.11.5"
  }
 },
 "nbformat": 4,
 "nbformat_minor": 5
}
